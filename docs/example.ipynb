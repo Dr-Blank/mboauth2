{
  "cells": [
    {
      "cell_type": "code",
      "execution_count": null,
      "metadata": {},
      "outputs": [],
      "source": [
        "from mboauth2 import AccessType, AuthClient, Scope, Token\n",
        "\n",
        "client = AuthClient(\n",
        "    client_id=\"foo\",\n",
        "    client_secret=\"bar\",\n",
        "    redirect_uri=\"baz\",\n",
        ")\n",
        "print(\n",
        "    \"complete the auth flow at:\",\n",
        "    client.generate_auth_url(\n",
        "        scopes=[Scope.PROFILE, Scope.EMAIL, Scope.COLLECTION, Scope.RATING],\n",
        "        access_type=AccessType.OFFLINE,\n",
        "    ),\n",
        ")\n",
        "\n",
        "# get code from callback url\n",
        "success_code_from_callback_url = \"yay!\"\n",
        "my_token: Token = client.retrieve_token(code=success_code_from_callback_url)\n",
        "\n",
        "# use the bearer token to access the api\n",
        "print(\"access token:\", my_token.access_token)\n",
        "print(\"refresh token:\", my_token.refresh_token)\n",
        "print(\"expires in:\", my_token.expires_in)\n",
        "\n",
        "# refresh token\n",
        "my_token.refresh()"
      ]
    }
  ],
  "metadata": {
    "kernelspec": {
      "display_name": ".venv",
      "language": "python",
      "name": "python3"
    },
    "language_info": {
      "codemirror_mode": {
        "name": "ipython",
        "version": 3
      },
      "file_extension": ".py",
      "mimetype": "text/x-python",
      "name": "python",
      "nbconvert_exporter": "python",
      "pygments_lexer": "ipython3",
      "version": "3.11.0"
    }
  },
  "nbformat": 4,
  "nbformat_minor": 2
}
